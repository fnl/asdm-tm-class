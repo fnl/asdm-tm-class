{
 "cells": [
  {
   "cell_type": "markdown",
   "metadata": {},
   "source": [
    "# Document classification\n",
    "\n",
    "Practical course material for the ASDM Class 09 (Text Mining) by Florian Leitner.\n",
    "\n",
    "© 2017 Florian Leitner. All rights reserved.\n",
    "\n",
    "## Introduction\n",
    "\n",
    "Today's lab will cover the two most fundamental techniques of Text Mining: Document classification and indexing; This notebook covers the former.\n",
    "\n",
    "First we run the standard setup seen in the preparatory notebooks:"
   ]
  },
  {
   "cell_type": "code",
   "execution_count": 1,
   "metadata": {
    "scrolled": true
   },
   "outputs": [
    {
     "name": "stdout",
     "output_type": "stream",
     "text": [
      "Populating the interactive namespace from numpy and matplotlib\n"
     ]
    }
   ],
   "source": [
    "%pylab inline --no-import-all"
   ]
  },
  {
   "cell_type": "markdown",
   "metadata": {},
   "source": [
    "Ensure you have **SciKit-Learn** installed or install it with:\n",
    "\n",
    "- Anaconda Python: `conda install sklearn`\n",
    "- Stock Python: `pip3 install sklearn`\n",
    "\n",
    "Once installed, the following import should work:"
   ]
  },
  {
   "cell_type": "code",
   "execution_count": 2,
   "metadata": {},
   "outputs": [],
   "source": [
    "import sklearn"
   ]
  },
  {
   "cell_type": "markdown",
   "metadata": {},
   "source": [
    "## Corpus setup\n",
    "\n",
    "The de facto standard evaluation dataset of Text Mining (analgous to the  [MINST \"database\" of handwritten digits](http://yann.lecun.com/exdb/mnist/) for computer vision) is the [20 Newsgroups dataset](http://qwone.com/~jason/20Newsgroups/) (from 1997 - yes, its vocabulary is outdated...)."
   ]
  },
  {
   "cell_type": "code",
   "execution_count": 3,
   "metadata": {},
   "outputs": [
    {
     "name": "stdout",
     "output_type": "stream",
     "text": [
      "Help on function fetch_20newsgroups in module sklearn.datasets.twenty_newsgroups:\n",
      "\n",
      "fetch_20newsgroups(data_home=None, subset='train', categories=None, shuffle=True, random_state=42, remove=(), download_if_missing=True)\n",
      "    Load the filenames and data from the 20 newsgroups dataset (classification).\n",
      "    \n",
      "    Download it if necessary.\n",
      "    \n",
      "    =================   ==========\n",
      "    Classes                     20\n",
      "    Samples total            18846\n",
      "    Dimensionality               1\n",
      "    Features                  text\n",
      "    =================   ==========\n",
      "    \n",
      "    Read more in the :ref:`User Guide <20newsgroups_dataset>`.\n",
      "    \n",
      "    Parameters\n",
      "    ----------\n",
      "    data_home : optional, default: None\n",
      "        Specify a download and cache folder for the datasets. If None,\n",
      "        all scikit-learn data is stored in '~/scikit_learn_data' subfolders.\n",
      "    \n",
      "    subset : 'train' or 'test', 'all', optional\n",
      "        Select the dataset to load: 'train' for the training set, 'test'\n",
      "        for the test set, 'all' for both, with shuffled ordering.\n",
      "    \n",
      "    categories : None or collection of string or unicode\n",
      "        If None (default), load all the categories.\n",
      "        If not None, list of category names to load (other categories\n",
      "        ignored).\n",
      "    \n",
      "    shuffle : bool, optional\n",
      "        Whether or not to shuffle the data: might be important for models that\n",
      "        make the assumption that the samples are independent and identically\n",
      "        distributed (i.i.d.), such as stochastic gradient descent.\n",
      "    \n",
      "    random_state : int, RandomState instance or None (default)\n",
      "        Determines random number generation for dataset shuffling. Pass an int\n",
      "        for reproducible output across multiple function calls.\n",
      "        See :term:`Glossary <random_state>`.\n",
      "    \n",
      "    remove : tuple\n",
      "        May contain any subset of ('headers', 'footers', 'quotes'). Each of\n",
      "        these are kinds of text that will be detected and removed from the\n",
      "        newsgroup posts, preventing classifiers from overfitting on\n",
      "        metadata.\n",
      "    \n",
      "        'headers' removes newsgroup headers, 'footers' removes blocks at the\n",
      "        ends of posts that look like signatures, and 'quotes' removes lines\n",
      "        that appear to be quoting another post.\n",
      "    \n",
      "        'headers' follows an exact standard; the other filters are not always\n",
      "        correct.\n",
      "    \n",
      "    download_if_missing : optional, True by default\n",
      "        If False, raise an IOError if the data is not locally available\n",
      "        instead of trying to download the data from the source site.\n",
      "    \n",
      "    Returns\n",
      "    -------\n",
      "    bunch : Bunch object with the following attribute:\n",
      "        - bunch.data: list, length [n_samples]\n",
      "        - bunch.target: array, shape [n_samples]\n",
      "        - bunch.filenames: list, length [n_samples]\n",
      "        - bunch.DESCR: a description of the dataset.\n",
      "        - bunch.target_names: a list of categories of the returned data,\n",
      "          length [n_classes]. This depends on the `categories` parameter.\n",
      "\n"
     ]
    }
   ],
   "source": [
    "from sklearn.datasets import fetch_20newsgroups\n",
    "help(fetch_20newsgroups)"
   ]
  },
  {
   "cell_type": "markdown",
   "metadata": {},
   "source": [
    "Download and perpare the dataset (needs a working internet connection):"
   ]
  },
  {
   "cell_type": "code",
   "execution_count": 4,
   "metadata": {},
   "outputs": [],
   "source": [
    "train = fetch_20newsgroups()\n",
    "test = fetch_20newsgroups(subset='test')"
   ]
  },
  {
   "cell_type": "markdown",
   "metadata": {},
   "source": [
    "Display some information about our corpus: n. documents, corpus size (characters), n. labels (newsgroups)."
   ]
  },
  {
   "cell_type": "code",
   "execution_count": 5,
   "metadata": {},
   "outputs": [
    {
     "name": "stdout",
     "output_type": "stream",
     "text": [
      "Training set:  11314 documents with 22.1 million UTF-16 characters\n",
      "Test set    :  7532 documents with 13.8 million UTF-16 characters\n",
      "\n",
      "20 Newsgroups:\n",
      "alt.atheism\n",
      "comp.graphics\n",
      "comp.os.ms-windows.misc\n",
      "comp.sys.ibm.pc.hardware\n",
      "comp.sys.mac.hardware\n",
      "comp.windows.x\n",
      "misc.forsale\n",
      "rec.autos\n",
      "rec.motorcycles\n",
      "rec.sport.baseball\n",
      "rec.sport.hockey\n",
      "sci.crypt\n",
      "sci.electronics\n",
      "sci.med\n",
      "sci.space\n",
      "soc.religion.christian\n",
      "talk.politics.guns\n",
      "talk.politics.mideast\n",
      "talk.politics.misc\n",
      "talk.religion.misc\n"
     ]
    }
   ],
   "source": [
    "def nmmchars(docs):\n",
    "    return sum(map(len, docs)) / 1e6\n",
    "\n",
    "print(\"Training set:\",\n",
    "      \" %5d documents with %4.1f million UTF-16 characters\" % (\n",
    "    len(train.data), nmmchars(train.data)))\n",
    "print(\"Test set    :\", \n",
    "      \"%5d documents with %4.1f million UTF-16 characters\" % (\n",
    "    len(test.data), nmmchars(test.data)))\n",
    "\n",
    "print(\"\\n%d Newsgroups:\" % len(train.target_names))\n",
    "print('\\n'.join(train.target_names))"
   ]
  },
  {
   "cell_type": "markdown",
   "metadata": {},
   "source": [
    "An example document (NB: *always* **look at your data** - I could not emphasise this more!):"
   ]
  },
  {
   "cell_type": "code",
   "execution_count": 6,
   "metadata": {},
   "outputs": [
    {
     "name": "stdout",
     "output_type": "stream",
     "text": [
      "From: lerxst@wam.umd.edu (where's my thing)\n",
      "Subject: WHAT car is this!?\n",
      "Nntp-Posting-Host: rac3.wam.umd.edu\n",
      "Organization: University of Maryland, College Park\n",
      "Lines: 15\n",
      "\n",
      " I was wondering if anyone out there could enlighten me on this car I saw\n",
      "the other day. It was a 2-door sports car, looked to be from the late 60s/\n",
      "early 70s. It was called a Bricklin. The doors were really small. In addition,\n",
      "the front bumper was separate from the rest of the body. This is \n",
      "all I know. If anyone can tellme a model name, engine specs, years\n",
      "of production, where this car is made, history, or whatever info you\n",
      "have on this funky looking car, please e-mail.\n",
      "\n",
      "Thanks,\n",
      "- IL\n",
      "   ---- brought to you by your neighborhood Lerxst ----\n"
     ]
    }
   ],
   "source": [
    "print(train.data[0].strip())"
   ]
  },
  {
   "cell_type": "markdown",
   "metadata": {},
   "source": [
    "Extract the label vectors $y_{train}$ and  $y_{test}$ for the training and test set (as integers referencing the newsgroups):"
   ]
  },
  {
   "cell_type": "code",
   "execution_count": 7,
   "metadata": {},
   "outputs": [
    {
     "name": "stdout",
     "output_type": "stream",
     "text": [
      "[7 4 4 ... 3 1 8]\n",
      "[ 7  5  0 ...  9  6 15]\n"
     ]
    }
   ],
   "source": [
    "y_train, y_test = train.target, test.target\n",
    "print(y_train)\n",
    "print(y_test)"
   ]
  },
  {
   "cell_type": "markdown",
   "metadata": {},
   "source": [
    "## Vectorizing text"
   ]
  },
  {
   "cell_type": "markdown",
   "metadata": {},
   "source": [
    "Due to using SciKit-Learn, we get *everything* we discussed in the lecture (and some more) in one nice package: \n",
    "\n",
    "- A simple$^§$ regex-based tokenization: `(?u)\\\\b\\\\w\\\\w+\\\\b`,\n",
    "- English stop-word filtering (other langauges: provide your own list), \n",
    "- Lower-case text normalization,\n",
    "- Vocabulary selection (limit the vocabulary to a predefined set),\n",
    "- Word n-gram (\"term\") generation (**default: none**!),\n",
    "- Inverted (term) indexing, and\n",
    "- TF-IDF term weighting\n",
    "\n",
    "from the **[`TfidfVectorizer`](http://scikit-learn.org/stable/modules/generated/sklearn.feature_extraction.text.TfidfVectorizer.html)**. In fact, this class even provides several niceties we are not using: character decoding, removal of accents, and even *character* n-gram feature generation (as opposed to token (\"word\") n-grams).\n",
    "\n",
    "$^§$ You might want to replace the default regex with: `(?u)(?:\\\\b|(?<=_))[^\\W_][^\\W_]+(?:\\\\b|(?=_))` to avoid having underscores in words (except maybe when analyzing Twitter tweets)."
   ]
  },
  {
   "cell_type": "code",
   "execution_count": 8,
   "metadata": {},
   "outputs": [
    {
     "name": "stdout",
     "output_type": "stream",
     "text": [
      "Help on function __init__ in module sklearn.feature_extraction.text:\n",
      "\n",
      "__init__(self, input='content', encoding='utf-8', decode_error='strict', strip_accents=None, lowercase=True, preprocessor=None, tokenizer=None, analyzer='word', stop_words=None, token_pattern='(?u)\\\\b\\\\w\\\\w+\\\\b', ngram_range=(1, 1), max_df=1.0, min_df=1, max_features=None, vocabulary=None, binary=False, dtype=<class 'numpy.float64'>, norm='l2', use_idf=True, smooth_idf=True, sublinear_tf=False)\n",
      "    Initialize self.  See help(type(self)) for accurate signature.\n",
      "\n"
     ]
    }
   ],
   "source": [
    "from sklearn.feature_extraction.text import TfidfVectorizer\n",
    "help(TfidfVectorizer.__init__)"
   ]
  },
  {
   "cell_type": "markdown",
   "metadata": {},
   "source": [
    "### TF-IDF parameters\n",
    "\n",
    "The parameters that control TF-IDF term weighting are:\n",
    "\n",
    "#### `binary`, Boolean, `True`\n",
    "\n",
    "Only 0/1 counts for words: aka, in document or not.\n",
    "Despite possible doubts, this often works surprisingly well, because it is a strong *regularization technique*.\n",
    "\n",
    "#### `max_df`, $(0.0,1.0]$, `1.0`\n",
    "\n",
    "Remove words in more documents than the `max_df` proportion.\n",
    "Think: \"learning corpus-specific, automatic stop-word filtering\";\n",
    "If your corpus is large enough (thousands or more documents), use this feature instead of brewing up your own stop-word list!\n",
    "Sometimes even including a stop-word list might lead you to filter out some of your best features.\n",
    "But as always in machine learning: The best strategy is to evaluate all approaches (i.e., with and without stop-words and/or DF filtering).\n",
    "Good values are in the range of $[0.25, 0.75]$, depending on corpus size.\n",
    "\n",
    "#### `min_df`, $[1,∞)$, `1`\n",
    "\n",
    "Filter (remove) words that appear in less than `min_df` documents.\n",
    "This again is regularization technique and can help remove noise.\n",
    "A good default value for this option is in the range of $[3,5]$, depending on corpus size (and possibly even `2` or even `10` for extreme sizes).\n",
    "\n",
    "#### `use_idf`, Boolean, `True`\n",
    "\n",
    "Dis- or enable IDF re-weighting (possibly only using term frequency).\n",
    "This option is particularly useful if you want to apply TF scaling (only) and/or other functionality of this vectorizer for some other means (than document classificiation/clustering).\n",
    "Also, for a **small training set**, IDF scaling might introduce more noise than anything else, in which case you also want to disable IDF.\n",
    "\n",
    "#### `smooth_idf`, Boolean, `True`\n",
    "\n",
    "If using IDF, add Laplace (aka. lidstone) +1 smoothing to all document frequency counts, to avoid divide-by-zero errors (i.e., assume each word was seen at least once at all times).\n",
    "The default is `True`, but you can use `False` if you then limit your (*test set*) vocabulary (i.e., \"for prediction\") to the words seen during training;\n",
    "I.e., if you have a **small dataset** (with hundreds or less documents), set this parameter to `False` and only work with the words \"seen\" during training (aka, your \"vocabulary\").\n",
    "\n",
    "\n",
    "#### `sublinear_tf`, Boolean, `False`\n",
    "\n",
    "Apply logarthimic scaling to term frequencies.\n",
    "Ironically, the default is `False`, but you almost always want to use this (*except* for **tiny training datasets** with dozens or less documents, *possibly* (do evaluate that assumption first!)), so remember to **use `True` by default**!\n",
    "\n",
    "### Setup and vecorization\n",
    "\n",
    "With the above in mind, a good default setup for our corpus \"dimensions\" might be (feel free to play around with this setup and see if you can increase the end-result!):"
   ]
  },
  {
   "cell_type": "code",
   "execution_count": 9,
   "metadata": {},
   "outputs": [
    {
     "name": "stdout",
     "output_type": "stream",
     "text": [
      "CPU times: user 5.07 s, sys: 80.4 ms, total: 5.15 s\n",
      "Wall time: 5.15 s\n"
     ]
    }
   ],
   "source": [
    "%%time\n",
    "vectorizer = TfidfVectorizer(\n",
    "    sublinear_tf=True,\n",
    "    min_df=3,\n",
    "    max_df=0.5,\n",
    "    #ngram_range=(1,2),\n",
    "    #token_pattern='(?u)(?:\\\\b|(?<=_))[^\\W_][^\\W_]+(?:\\\\b|(?=_))',\n",
    ")\n",
    "# train (aka, fit) the vectorizer to the train data:\n",
    "X_train = vectorizer.fit_transform(train.data)\n",
    "# with the fitted vectorizer, transform the test data:\n",
    "X_test = vectorizer.transform(test.data)"
   ]
  },
  {
   "cell_type": "code",
   "execution_count": 10,
   "metadata": {},
   "outputs": [
    {
     "data": {
      "text/plain": [
       "<7532x38842 sparse matrix of type '<class 'numpy.float64'>'\n",
       "\twith 927875 stored elements in Compressed Sparse Row format>"
      ]
     },
     "execution_count": 10,
     "metadata": {},
     "output_type": "execute_result"
    }
   ],
   "source": [
    "X_test"
   ]
  },
  {
   "cell_type": "markdown",
   "metadata": {},
   "source": [
    "If your machine isn't very old, all this \"text-to-numbers\" (vectors) setup should have not taken more than a few seconds.\n",
    "The most time-consuming factor in the above setup is the n-gram range."
   ]
  },
  {
   "cell_type": "code",
   "execution_count": 11,
   "metadata": {},
   "outputs": [
    {
     "name": "stdout",
     "output_type": "stream",
     "text": [
      "0o\n",
      "146\n",
      "1d\n",
      "3v9f9d\n",
      "8076\n",
      "8d\n",
      "buslogic\n",
      "career\n",
      "dripping\n",
      "feather\n",
      "gurion\n",
      "helen\n",
      "jafoust\n",
      "missouri\n",
      "prototypes\n",
      "ringer\n",
      "sch\n",
      "stekt6\n",
      "wustl\n",
      "zah\n"
     ]
    }
   ],
   "source": [
    "import random\n",
    "\n",
    "feature_names = vectorizer.get_feature_names()\n",
    "\n",
    "# look at some random features (\"terms\")\n",
    "print(\"\\n\".join(sorted(random.sample(feature_names, 20))))\n",
    "#print()\n",
    "# first n\n",
    "#print(\"\\n\".join(feature_names[:5]))\n",
    "# last n\n",
    "#print(\"\\n\".join(feature_names[-5:]))\n",
    "# problems:\n",
    "#print()\n",
    "#print(\"\\n\".join(n for n in feature_names if \"__\" in n))\n",
    "\n",
    "feature_names = np.asarray(feature_names)"
   ]
  },
  {
   "cell_type": "markdown",
   "metadata": {},
   "source": [
    "If you run this frequently enough, you should see that tokenization could have been a bit better... E.g., filtering out all the underscore \"separators\". Also, sorting your features and looking at the first/last few also often helps identify issues (here, e.g., all the numbers, which might lead to overfitting)."
   ]
  },
  {
   "cell_type": "markdown",
   "metadata": {},
   "source": [
    "## Classifying text\n",
    "\n",
    "Now that we have a numeric representation of our text, let's train some machine learning classifiers with it!\n",
    "As the remainder of the ASDM courses should give you a pretty good feeling for most of the issues of classifiers, we won't detail their setups here.\n",
    "Also, SciKit-Learn itself has pretty good [tutorials](http://scikit-learn.org/stable/supervised_learning.html) on all these (supervised) classifiers.\n",
    "\n",
    "The following setup and test-run accross a whole bunch of possible classifiers is taken from the [SciKit-Learn document classification tutorial](http://scikit-learn.org/stable/auto_examples/text/document_classification_20newsgroups.html), with some minor modifications and updates (to remove deprecation warnings)."
   ]
  },
  {
   "cell_type": "code",
   "execution_count": 12,
   "metadata": {},
   "outputs": [],
   "source": [
    "from time import time\n",
    "\n",
    "from sklearn import metrics # yay, evaluation metrics! (day 5...)\n",
    "from sklearn.utils.extmath import density\n",
    "\n",
    "def trim(s):\n",
    "    \"\"\"\n",
    "    Trim string to fit on terminal\n",
    "    (assuming 80-column display)\n",
    "    \"\"\"\n",
    "    \n",
    "    return s if len(s) <= 80 else s[:77] + \"...\"\n",
    "\n",
    "def benchmark(clf, adjustments=\"\"):\n",
    "    print(adjustments, end=\"\")\n",
    "    print(clf)\n",
    "    t0 = time()\n",
    "    clf.fit(X_train, y_train)\n",
    "    train_time = time() - t0\n",
    "    print(\"\\ntrain time: %0.3fs\" % train_time)\n",
    "\n",
    "    t0 = time()\n",
    "    pred = clf.predict(X_test)\n",
    "    test_time = time() - t0\n",
    "    print(\"test time:  %0.3fs\" % test_time)\n",
    "\n",
    "    score = metrics.accuracy_score(y_test, pred)\n",
    "    print(\"accuracy:   %0.3f\" % score)\n",
    "\n",
    "    if hasattr(clf, 'coef_'):\n",
    "        print(\"dimensionality: %d features\" %\n",
    "              clf.coef_.shape[1])\n",
    "        print(\"density: %.1f%% of features used\" % \n",
    "              (100 * density(clf.coef_)))\n",
    "        #print(\"\\ntop 10 keywords per class:\")\n",
    "        #for i, label in enumerate(train.target_names):\n",
    "        #    top10 = np.argsort(clf.coef_[i])[-10:]\n",
    "        #    print(trim(\"%s: %s\" % (\n",
    "        #        label, \" \".join(feature_names[top10])\n",
    "        #    )))\n",
    "\n",
    "    #print(\"\\nclassification report:\")\n",
    "    #print(metrics.classification_report(y_test, pred,\n",
    "    #                                    target_names=train.target_names))\n",
    "    #print(\"\\nconfusion matrix:\")\n",
    "    #print(metrics.confusion_matrix(y_test, pred))\n",
    "    \n",
    "    print()\n",
    "    clf_descr = str(clf).split('(')[0]\n",
    "    return adjustments + clf_descr, score, train_time, test_time"
   ]
  },
  {
   "cell_type": "markdown",
   "metadata": {},
   "source": [
    "Apply a wide selection of supervised classifiers (this might take a few minutes):"
   ]
  },
  {
   "cell_type": "code",
   "execution_count": 13,
   "metadata": {
    "scrolled": true
   },
   "outputs": [
    {
     "name": "stdout",
     "output_type": "stream",
     "text": [
      "================================================================================\n",
      "RidgeClassifier(alpha=1.0, class_weight=None, copy_X=True, fit_intercept=True,\n",
      "                max_iter=None, normalize=False, random_state=None, solver='sag',\n",
      "                tol=0.01)\n",
      "\n",
      "train time: 5.235s\n",
      "test time:  0.018s\n",
      "accuracy:   0.860\n",
      "dimensionality: 38842 features\n",
      "density: 100.0% of features used\n",
      "\n",
      "================================================================================\n",
      "Perceptron(alpha=0.0001, class_weight=None, early_stopping=False, eta0=1.0,\n",
      "           fit_intercept=True, max_iter=50, n_iter_no_change=5, n_jobs=None,\n",
      "           penalty=None, random_state=0, shuffle=True, tol=0.001,\n",
      "           validation_fraction=0.1, verbose=0, warm_start=False)\n",
      "\n",
      "train time: 0.517s\n",
      "test time:  0.022s\n",
      "accuracy:   0.808\n",
      "dimensionality: 38842 features\n",
      "density: 24.7% of features used\n",
      "\n",
      "================================================================================\n",
      "PassiveAggressiveClassifier(C=1.0, average=False, class_weight=None,\n",
      "                            early_stopping=False, fit_intercept=True,\n",
      "                            loss='hinge', max_iter=50, n_iter_no_change=5,\n",
      "                            n_jobs=None, random_state=None, shuffle=True,\n",
      "                            tol=0.001, validation_fraction=0.1, verbose=0,\n",
      "                            warm_start=False)\n",
      "\n",
      "train time: 0.999s\n",
      "test time:  0.025s\n",
      "accuracy:   0.848\n",
      "dimensionality: 38842 features\n",
      "density: 70.2% of features used\n",
      "\n",
      "================================================================================\n",
      "KNeighborsClassifier(algorithm='auto', leaf_size=30, metric='minkowski',\n",
      "                     metric_params=None, n_jobs=None, n_neighbors=10, p=2,\n",
      "                     weights='uniform')\n",
      "\n",
      "train time: 0.010s\n",
      "test time:  6.672s\n",
      "accuracy:   0.721\n",
      "\n",
      "================================================================================\n",
      "RandomForestClassifier(bootstrap=True, class_weight=None, criterion='gini',\n",
      "                       max_depth=None, max_features='auto', max_leaf_nodes=None,\n",
      "                       min_impurity_decrease=0.0, min_impurity_split=None,\n",
      "                       min_samples_leaf=1, min_samples_split=2,\n",
      "                       min_weight_fraction_leaf=0.0, n_estimators=100,\n",
      "                       n_jobs=None, oob_score=False, random_state=None,\n",
      "                       verbose=0, warm_start=False)\n",
      "\n",
      "train time: 24.489s\n",
      "test time:  0.721s\n",
      "accuracy:   0.773\n",
      "\n",
      "================================================================================\n",
      "L2 LinearSVC(C=1.0, class_weight=None, dual=False, fit_intercept=True,\n",
      "          intercept_scaling=1, loss='squared_hinge', max_iter=1000,\n",
      "          multi_class='ovr', penalty='l2', random_state=None, tol=0.001,\n",
      "          verbose=0)\n",
      "\n",
      "train time: 3.483s\n",
      "test time:  0.018s\n",
      "accuracy:   0.856\n",
      "dimensionality: 38842 features\n",
      "density: 100.0% of features used\n",
      "\n",
      "================================================================================\n",
      "L2 SGDClassifier(alpha=0.0001, average=False, class_weight=None,\n",
      "              early_stopping=False, epsilon=0.1, eta0=0.0, fit_intercept=True,\n",
      "              l1_ratio=0.15, learning_rate='optimal', loss='hinge', max_iter=50,\n",
      "              n_iter_no_change=5, n_jobs=None, penalty='l2', power_t=0.5,\n",
      "              random_state=None, shuffle=True, tol=0.001,\n",
      "              validation_fraction=0.1, verbose=0, warm_start=False)\n",
      "\n",
      "train time: 0.784s\n",
      "test time:  0.018s\n",
      "accuracy:   0.857\n",
      "dimensionality: 38842 features\n",
      "density: 57.6% of features used\n",
      "\n",
      "================================================================================\n",
      "L1 LinearSVC(C=1.0, class_weight=None, dual=False, fit_intercept=True,\n",
      "          intercept_scaling=1, loss='squared_hinge', max_iter=1000,\n",
      "          multi_class='ovr', penalty='l1', random_state=None, tol=0.001,\n",
      "          verbose=0)\n",
      "\n",
      "train time: 5.540s\n",
      "test time:  0.017s\n",
      "accuracy:   0.826\n",
      "dimensionality: 38842 features\n",
      "density: 0.9% of features used\n",
      "\n",
      "================================================================================\n",
      "L1 SGDClassifier(alpha=0.0001, average=False, class_weight=None,\n",
      "              early_stopping=False, epsilon=0.1, eta0=0.0, fit_intercept=True,\n",
      "              l1_ratio=0.15, learning_rate='optimal', loss='hinge', max_iter=50,\n",
      "              n_iter_no_change=5, n_jobs=None, penalty='l1', power_t=0.5,\n",
      "              random_state=None, shuffle=True, tol=0.001,\n",
      "              validation_fraction=0.1, verbose=0, warm_start=False)\n",
      "\n",
      "train time: 1.464s\n",
      "test time:  0.020s\n",
      "accuracy:   0.797\n",
      "dimensionality: 38842 features\n",
      "density: 0.5% of features used\n",
      "\n",
      "================================================================================\n",
      "Elastic SGDClassifier(alpha=0.0001, average=False, class_weight=None,\n",
      "              early_stopping=False, epsilon=0.1, eta0=0.0, fit_intercept=True,\n",
      "              l1_ratio=0.15, learning_rate='optimal', loss='hinge', max_iter=50,\n",
      "              n_iter_no_change=5, n_jobs=None, penalty='elasticnet',\n",
      "              power_t=0.5, random_state=None, shuffle=True, tol=0.001,\n",
      "              validation_fraction=0.1, verbose=0, warm_start=False)\n",
      "\n",
      "train time: 3.075s\n",
      "test time:  0.020s\n",
      "accuracy:   0.848\n",
      "dimensionality: 38842 features\n",
      "density: 9.0% of features used\n",
      "\n",
      "================================================================================\n",
      "NearestCentroid(metric='euclidean', shrink_threshold=None)\n",
      "\n",
      "train time: 0.042s\n",
      "test time:  0.024s\n",
      "accuracy:   0.780\n",
      "\n",
      "================================================================================\n",
      "MultinomialNB(alpha=0.01, class_prior=None, fit_prior=True)\n",
      "\n",
      "train time: 0.050s\n",
      "test time:  0.018s\n",
      "accuracy:   0.836\n",
      "dimensionality: 38842 features\n",
      "density: 100.0% of features used\n",
      "\n",
      "================================================================================\n",
      "BernoulliNB(alpha=0.01, binarize=0.0, class_prior=None, fit_prior=True)\n",
      "\n",
      "train time: 0.055s\n",
      "test time:  0.050s\n",
      "accuracy:   0.761\n",
      "dimensionality: 38842 features\n",
      "density: 100.0% of features used\n",
      "\n",
      "================================================================================\n",
      "SVC Pipeline(memory=None,\n",
      "         steps=[('feature_selection',\n",
      "                 SelectFromModel(estimator=LinearSVC(C=1.0, class_weight=None,\n",
      "                                                     dual=False,\n",
      "                                                     fit_intercept=True,\n",
      "                                                     intercept_scaling=1,\n",
      "                                                     loss='squared_hinge',\n",
      "                                                     max_iter=1000,\n",
      "                                                     multi_class='ovr',\n",
      "                                                     penalty='l1',\n",
      "                                                     random_state=None,\n",
      "                                                     tol=0.001, verbose=0),\n",
      "                                 max_features=None, norm_order=1, prefit=False,\n",
      "                                 threshold=None)),\n",
      "                ('classification',\n",
      "                 LinearSVC(C=1.0, class_weight=None, dual=True,\n",
      "                           fit_intercept=True, intercept_scaling=1,\n",
      "                           loss='squared_hinge', max_iter=1000,\n",
      "                           multi_class='ovr', penalty='l2', random_state=None,\n",
      "                           tol=0.0001, verbose=0))],\n",
      "         verbose=False)\n",
      "\n",
      "train time: 6.564s\n",
      "test time:  0.032s\n",
      "accuracy:   0.842\n",
      "\n"
     ]
    }
   ],
   "source": [
    "# The SciKit-Learn data processing pipeline:\n",
    "from sklearn.pipeline import Pipeline\n",
    "# Using classifiers as feature selectors (in a pipeline):\n",
    "from sklearn.feature_selection import SelectFromModel\n",
    "\n",
    "from sklearn.linear_model import RidgeClassifier\n",
    "from sklearn.svm import LinearSVC\n",
    "from sklearn.linear_model import SGDClassifier\n",
    "from sklearn.linear_model import Perceptron\n",
    "from sklearn.linear_model import PassiveAggressiveClassifier\n",
    "from sklearn.naive_bayes import BernoulliNB, MultinomialNB\n",
    "from sklearn.neighbors import KNeighborsClassifier\n",
    "from sklearn.neighbors import NearestCentroid\n",
    "from sklearn.ensemble import RandomForestClassifier\n",
    "\n",
    "results = []\n",
    "for clf, name in (\n",
    "        (RidgeClassifier(tol=1e-2, solver=\"sag\"),\n",
    "         \"Ridge Classifier\"),\n",
    "        (Perceptron(max_iter=50),\n",
    "         \"Perceptron\"),\n",
    "        (PassiveAggressiveClassifier(max_iter=50),\n",
    "         \"Passive-Aggressive\"),\n",
    "        (KNeighborsClassifier(n_neighbors=10),\n",
    "         \"kNN\"),\n",
    "        (RandomForestClassifier(n_estimators=100),\n",
    "         \"Random forest\")):\n",
    "    print('=' * 80)\n",
    "    results.append(benchmark(clf))\n",
    "\n",
    "for penalty in [\"l2 \", \"l1 \"]:\n",
    "    \n",
    "    print('=' * 80)\n",
    "    classifier = LinearSVC(\n",
    "        loss='squared_hinge',\n",
    "        penalty=penalty.strip(),\n",
    "        dual=False,\n",
    "        tol=1e-3)\n",
    "    results.append(benchmark(classifier, penalty.upper()))\n",
    "    \n",
    "    print('=' * 80)\n",
    "    classifier = SGDClassifier(\n",
    "        alpha=.0001,\n",
    "        max_iter=50,\n",
    "        penalty=penalty.strip())\n",
    "    results.append(benchmark(classifier, penalty.upper()))\n",
    "\n",
    "print('=' * 80)\n",
    "classifier = SGDClassifier(\n",
    "    alpha=.0001,\n",
    "    max_iter=50,\n",
    "    penalty=\"elasticnet\")\n",
    "results.append(benchmark(classifier, \"Elastic \"))\n",
    "\n",
    "print('=' * 80)\n",
    "results.append(benchmark(NearestCentroid()))\n",
    "\n",
    "print('=' * 80)\n",
    "results.append(benchmark(MultinomialNB(alpha=.01)))\n",
    "\n",
    "print('=' * 80)\n",
    "results.append(benchmark(BernoulliNB(alpha=.01)))\n",
    "\n",
    "print('=' * 80)\n",
    "classifier = Pipeline([\n",
    "  ('feature_selection', SelectFromModel(LinearSVC(\n",
    "      penalty=\"l1\",\n",
    "      dual=False,\n",
    "      tol=1e-3))),\n",
    "  ('classification', LinearSVC())\n",
    "])\n",
    "results.append(benchmark(classifier, adjustments=\"SVC \"))\n",
    "\n",
    "indices = np.arange(len(results))\n",
    "results = [[x[i] for x in results] for i in range(4)]"
   ]
  },
  {
   "cell_type": "markdown",
   "metadata": {},
   "source": [
    "## Results\n",
    "\n",
    "Plot the historgrams of the classifier performance statistics:"
   ]
  },
  {
   "cell_type": "code",
   "execution_count": 14,
   "metadata": {
    "scrolled": false
   },
   "outputs": [
    {
     "data": {
      "image/png": "[encoded data removed]",
      "text/plain": [
       "<Figure size 864x576 with 1 Axes>"
      ]
     },
     "metadata": {
      "needs_background": "light"
     },
     "output_type": "display_data"
    }
   ],
   "source": [
    "clf_names, score, training_time, test_time = results\n",
    "training_time_norm = \\\n",
    "    np.array(training_time) / np.max(training_time)\n",
    "test_time_norm = np.array(test_time) / np.max(test_time)\n",
    "\n",
    "plt.figure(figsize=(12, 8))\n",
    "plt.title(\"Score\")\n",
    "plt.barh(indices, score, .25, label=\"score\", color='navy')\n",
    "plt.barh(indices + .25, training_time_norm, .2, \n",
    "         label=\"training time\", color='c')\n",
    "plt.barh(indices + .5, test_time_norm, .2,\n",
    "         label=\"test time\", color='darkorange')\n",
    "plt.yticks(())\n",
    "plt.legend(loc='best')\n",
    "plt.subplots_adjust(left=.25)\n",
    "plt.subplots_adjust(top=.95)\n",
    "plt.subplots_adjust(bottom=.05)\n",
    "\n",
    "for i, c in zip(indices, clf_names):\n",
    "    plt.text(-.3, i+0.1, c)\n",
    "\n",
    "plt.show()"
   ]
  },
  {
   "cell_type": "markdown",
   "metadata": {},
   "source": [
    "## Conclusion\n",
    "\n",
    "In text mining, the classifier often matters much less than *everything else* (tokenization, n-grams, feature selection strategies, etc.), at least if you choose a fairly decent, but still rather simple classifier (here: multinoulli Naive Bayes).\n",
    "\n",
    "Another set of red flags are the test times of the Random Forset (think: gradient boosting, etc.) and kNN classifiers, i.e., their prohibitively large *prediction times* - at least if you are planning to deploy your classifier in settings where the time it takes to present results (to the user) matters, and the enormous training time of the Random Forest classifier (hint: a deep learning network would be even worse...)."
   ]
  }
 ],
 "metadata": {
  "kernelspec": {
   "display_name": "Python 3",
   "language": "python",
   "name": "python3"
  },
  "language_info": {
   "codemirror_mode": {
    "name": "ipython",
    "version": 3
   },
   "file_extension": ".py",
   "mimetype": "text/x-python",
   "name": "python",
   "nbconvert_exporter": "python",
   "pygments_lexer": "ipython3",
   "version": "3.7.3"
  }
 },
 "nbformat": 4,
 "nbformat_minor": 1
}
